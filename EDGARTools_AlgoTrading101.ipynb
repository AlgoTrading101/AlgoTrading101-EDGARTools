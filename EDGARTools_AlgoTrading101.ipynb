{
  "nbformat": 4,
  "nbformat_minor": 0,
  "metadata": {
    "colab": {
      "provenance": []
    },
    "kernelspec": {
      "name": "python3",
      "display_name": "Python 3"
    },
    "language_info": {
      "name": "python"
    }
  },
  "cells": [
    {
      "cell_type": "markdown",
      "source": [
        "## Installation"
      ],
      "metadata": {
        "id": "lQaf4sJCHZl9"
      }
    },
    {
      "cell_type": "code",
      "execution_count": null,
      "metadata": {
        "id": "VFwD4ZEUHVMG"
      },
      "outputs": [],
      "source": [
        "!pip install edgartools"
      ]
    },
    {
      "cell_type": "code",
      "source": [
        "import edgar"
      ],
      "metadata": {
        "id": "jNVoLR5UH09D"
      },
      "execution_count": null,
      "outputs": []
    },
    {
      "cell_type": "code",
      "source": [
        "import os\n",
        "os.environ['EDGAR_IDENTITY']=\"Name email@domain.com\""
      ],
      "metadata": {
        "id": "vOw6w18cIvWd"
      },
      "execution_count": null,
      "outputs": []
    },
    {
      "cell_type": "markdown",
      "source": [
        "## Get SEC Filings"
      ],
      "metadata": {
        "id": "N2w6PH5OHcvL"
      }
    },
    {
      "cell_type": "code",
      "source": [
        "ten_k_filings = edgar.get_filings(2023, 2, form=\"10-K\")\n",
        "ten_k_filings"
      ],
      "metadata": {
        "id": "OfvX6CSTHxFk"
      },
      "execution_count": null,
      "outputs": []
    },
    {
      "cell_type": "code",
      "source": [
        "ten_k_filings[0]"
      ],
      "metadata": {
        "colab": {
          "base_uri": "https://localhost:8080/",
          "height": 255
        },
        "id": "lrEbHg1fIYDk",
        "outputId": "a501a5d9-97d3-4d88-a4d7-e79f29155c94"
      },
      "execution_count": null,
      "outputs": [
        {
          "output_type": "display_data",
          "data": {
            "text/plain": [],
            "text/html": [
              "<pre style=\"white-space:pre;overflow-x:auto;line-height:normal;font-family:Menlo,'DejaVu Sans Mono',consolas,'Courier New',monospace\"></pre>\n"
            ]
          },
          "metadata": {}
        },
        {
          "output_type": "execute_result",
          "data": {
            "text/plain": [
              "╭───────────────────────────────────── 10-K 📊 filing for BROWN FORMAN CORP ──────────────────────────────────────╮\n",
              "│                                                                                                                 │\n",
              "│  \u001b[1m \u001b[0m\u001b[1mAccession Number    \u001b[0m\u001b[1m \u001b[0m \u001b[1m \u001b[0m\u001b[1mFiling Date\u001b[0m\u001b[1m \u001b[0m \u001b[1m \u001b[0m\u001b[1mCompany          \u001b[0m\u001b[1m \u001b[0m \u001b[1m \u001b[0m\u001b[1mCIK  \u001b[0m\u001b[1m \u001b[0m                                               │\n",
              "│  ────────────────────────────────────────────────────────────────                                               │\n",
              "│  \u001b[1m \u001b[0m\u001b[1m0000014693-23-000074\u001b[0m\u001b[1m \u001b[0m  2023-06-16    BROWN FORMAN CORP   14693                                                │\n",
              "│                                                                                                                 │\n",
              "│                                                                                                                 │\n",
              "│  \u001b[1m \u001b[0m\u001b[1mLink                   \u001b[0m\u001b[1m \u001b[0m \u001b[1m \u001b[0m\u001b[1mURL                                                                              \u001b[0m\u001b[1m \u001b[0m  │\n",
              "│  ─────────────────────────────────────────────────────────────────────────────────────────────────────────────  │\n",
              "│  \u001b[1m \u001b[0m\u001b[1m🏠 Homepage            \u001b[0m\u001b[1m \u001b[0m  https://www.sec.gov/Archives/edgar/data/14693/0000014693-23-000074-index.html       │\n",
              "│  \u001b[1m \u001b[0m\u001b[1m📄 Primary Document    \u001b[0m\u001b[1m \u001b[0m  https://www.sec.gov/Archives/edgar/data/14693/000001469323000074/bfb-20230430.htm   │\n",
              "│  \u001b[1m \u001b[0m\u001b[1m📒 Full Submission Text\u001b[0m\u001b[1m \u001b[0m  https://www.sec.gov/Archives/edgar/data/14693/000001469323000074/0000014693-23-0…   │\n",
              "│                                                                                                                 │\n",
              "╰─────────────────────────────────────────────────────────────────────────────────────────────────────────────────╯"
            ]
          },
          "metadata": {},
          "execution_count": 9
        }
      ]
    },
    {
      "cell_type": "code",
      "source": [
        "ten_k_filings[0].attachments"
      ],
      "metadata": {
        "colab": {
          "base_uri": "https://localhost:8080/",
          "height": 408
        },
        "id": "snhRlcYWQsJK",
        "outputId": "c4df3304-198d-4c8f-8414-525c18c71970"
      },
      "execution_count": null,
      "outputs": [
        {
          "output_type": "display_data",
          "data": {
            "text/plain": [],
            "text/html": [
              "<pre style=\"white-space:pre;overflow-x:auto;line-height:normal;font-family:Menlo,'DejaVu Sans Mono',consolas,'Courier New',monospace\"></pre>\n"
            ]
          },
          "metadata": {}
        },
        {
          "output_type": "execute_result",
          "data": {
            "text/plain": [
              "                                                                                                                   \n",
              " \u001b[1m \u001b[0m\u001b[1m  \u001b[0m\u001b[1m \u001b[0m \u001b[1m \u001b[0m\u001b[1mDescription                                      \u001b[0m\u001b[1m \u001b[0m \u001b[1m \u001b[0m\u001b[1mDocument                      \u001b[0m\u001b[1m \u001b[0m \u001b[1m \u001b[0m\u001b[1mType      \u001b[0m\u001b[1m \u001b[0m \u001b[1m \u001b[0m\u001b[1mSize    \u001b[0m\u001b[1m \u001b[0m \n",
              " ───────────────────────────────────────────────────────────────────────────────────────────────────────────────── \n",
              " \u001b[1m \u001b[0m\u001b[1m0 \u001b[0m\u001b[1m \u001b[0m \u001b[1m \u001b[0m\u001b[1m10-K                                             \u001b[0m\u001b[1m \u001b[0m \u001b[1m \u001b[0m\u001b[1mbfb-20230430.htm   iXBRL      \u001b[0m\u001b[1m \u001b[0m \u001b[1m \u001b[0m\u001b[1m10-K      \u001b[0m\u001b[1m \u001b[0m \u001b[1m \u001b[0m\u001b[1m3.0 MB  \u001b[0m\u001b[1m \u001b[0m \n",
              "  1    EX-21                                               bfb-ex21_2023430x10kapril.htm    EX-21        24.1 KB   \n",
              " \u001b[1m \u001b[0m\u001b[1m2 \u001b[0m\u001b[1m \u001b[0m \u001b[1m \u001b[0m\u001b[1mEX-23                                            \u001b[0m\u001b[1m \u001b[0m \u001b[1m \u001b[0m\u001b[1mbfb-ex23_2023430x10kapril.htm \u001b[0m\u001b[1m \u001b[0m \u001b[1m \u001b[0m\u001b[1mEX-23     \u001b[0m\u001b[1m \u001b[0m \u001b[1m \u001b[0m\u001b[1m3.8 KB  \u001b[0m\u001b[1m \u001b[0m \n",
              "  3    EX-31.1                                             bfb-ex311_2023430x10kapril.htm   EX-31.1      10.3 KB   \n",
              " \u001b[1m \u001b[0m\u001b[1m4 \u001b[0m\u001b[1m \u001b[0m \u001b[1m \u001b[0m\u001b[1mEX-31.2                                          \u001b[0m\u001b[1m \u001b[0m \u001b[1m \u001b[0m\u001b[1mbfb-ex312_2023430x10kapril.htm\u001b[0m\u001b[1m \u001b[0m \u001b[1m \u001b[0m\u001b[1mEX-31.2   \u001b[0m\u001b[1m \u001b[0m \u001b[1m \u001b[0m\u001b[1m10.2 KB \u001b[0m\u001b[1m \u001b[0m \n",
              "  5    EX-32                                               bfb-ex32_2023430x10kapril.htm    EX-32        9.7 KB    \n",
              " \u001b[1m \u001b[0m\u001b[1m6 \u001b[0m\u001b[1m \u001b[0m \u001b[1m \u001b[0m\u001b[1m                                                 \u001b[0m\u001b[1m \u001b[0m \u001b[1m \u001b[0m\u001b[1mbfb-20230430_g1.jpg           \u001b[0m\u001b[1m \u001b[0m \u001b[1m \u001b[0m\u001b[1mGRAPHIC   \u001b[0m\u001b[1m \u001b[0m \u001b[1m \u001b[0m\u001b[1m91.7 KB \u001b[0m\u001b[1m \u001b[0m \n",
              "  7                                                        bfb-20230430_g2.jpg              GRAPHIC      105.1 KB  \n",
              " \u001b[1m \u001b[0m\u001b[1m8 \u001b[0m\u001b[1m \u001b[0m \u001b[1m \u001b[0m\u001b[1m                                                 \u001b[0m\u001b[1m \u001b[0m \u001b[1m \u001b[0m\u001b[1mbfb-20230430_g3.jpg           \u001b[0m\u001b[1m \u001b[0m \u001b[1m \u001b[0m\u001b[1mGRAPHIC   \u001b[0m\u001b[1m \u001b[0m \u001b[1m \u001b[0m\u001b[1m124.2 KB\u001b[0m\u001b[1m \u001b[0m \n",
              "  9    Complete submission text file                       0000014693-23-000074.txt                      15.5 MB   \n",
              " \u001b[1m \u001b[0m\u001b[1m10\u001b[0m\u001b[1m \u001b[0m \u001b[1m \u001b[0m\u001b[1mXBRL TAXONOMY EXTENSION SCHEMA DOCUMENT          \u001b[0m\u001b[1m \u001b[0m \u001b[1m \u001b[0m\u001b[1mbfb-20230430.xsd              \u001b[0m\u001b[1m \u001b[0m \u001b[1m \u001b[0m\u001b[1mEX-101.SCH\u001b[0m\u001b[1m \u001b[0m \u001b[1m \u001b[0m\u001b[1m90.3 KB \u001b[0m\u001b[1m \u001b[0m \n",
              "  11   XBRL TAXONOMY EXTENSION CALCULATION LINKBASE        bfb-20230430_cal.xml             EX-101.CAL   148.4 KB  \n",
              "       DOCUMENT                                                                                                    \n",
              " \u001b[1m \u001b[0m\u001b[1m12\u001b[0m\u001b[1m \u001b[0m \u001b[1m \u001b[0m\u001b[1mXBRL TAXONOMY EXTENSION DEFINITION LINKBASE      \u001b[0m\u001b[1m \u001b[0m \u001b[1m \u001b[0m\u001b[1mbfb-20230430_def.xml          \u001b[0m\u001b[1m \u001b[0m \u001b[1m \u001b[0m\u001b[1mEX-101.DEF\u001b[0m\u001b[1m \u001b[0m \u001b[1m \u001b[0m\u001b[1m578.0 KB\u001b[0m\u001b[1m \u001b[0m \n",
              " \u001b[1m    \u001b[0m \u001b[1m \u001b[0m\u001b[1mDOCUMENT                                         \u001b[0m\u001b[1m \u001b[0m \u001b[1m                                \u001b[0m \u001b[1m            \u001b[0m \u001b[1m          \u001b[0m \n",
              "  13   XBRL TAXONOMY EXTENSION LABEL LINKBASE DOCUMENT     bfb-20230430_lab.xml             EX-101.LAB   1.1 MB    \n",
              " \u001b[1m \u001b[0m\u001b[1m14\u001b[0m\u001b[1m \u001b[0m \u001b[1m \u001b[0m\u001b[1mXBRL TAXONOMY EXTENSION PRESENTATION LINKBASE    \u001b[0m\u001b[1m \u001b[0m \u001b[1m \u001b[0m\u001b[1mbfb-20230430_pre.xml          \u001b[0m\u001b[1m \u001b[0m \u001b[1m \u001b[0m\u001b[1mEX-101.PRE\u001b[0m\u001b[1m \u001b[0m \u001b[1m \u001b[0m\u001b[1m818.9 KB\u001b[0m\u001b[1m \u001b[0m \n",
              " \u001b[1m    \u001b[0m \u001b[1m \u001b[0m\u001b[1mDOCUMENT                                         \u001b[0m\u001b[1m \u001b[0m \u001b[1m                                \u001b[0m \u001b[1m            \u001b[0m \u001b[1m          \u001b[0m \n",
              "  15   EXTRACTED XBRL INSTANCE DOCUMENT                    bfb-20230430_htm.xml             XML          3.0 MB    \n",
              "                                                                                                                   "
            ]
          },
          "metadata": {},
          "execution_count": 23
        }
      ]
    },
    {
      "cell_type": "markdown",
      "source": [
        "## Advanced Query"
      ],
      "metadata": {
        "id": "_DoAKYWCKNDG"
      }
    },
    {
      "cell_type": "code",
      "source": [
        "filings = edgar.get_filings(\n",
        "    2021, 4, filing_date=\"2021-10-01:2021-10-10\", index=\"xbrl\"\n",
        ")\n",
        "filings"
      ],
      "metadata": {
        "colab": {
          "base_uri": "https://localhost:8080/",
          "height": 986
        },
        "id": "3sIiQvoNKOJ2",
        "outputId": "e5447a64-6197-4e8c-a73c-8a4f6722654b"
      },
      "execution_count": null,
      "outputs": [
        {
          "output_type": "display_data",
          "data": {
            "text/plain": [],
            "text/html": [
              "<pre style=\"white-space:pre;overflow-x:auto;line-height:normal;font-family:Menlo,'DejaVu Sans Mono',consolas,'Courier New',monospace\"></pre>\n"
            ]
          },
          "metadata": {}
        },
        {
          "output_type": "execute_result",
          "data": {
            "text/plain": [
              "╭──────────────────────────────────────────────────── Filings ────────────────────────────────────────────────────╮\n",
              "│                                                                                                                 │\n",
              "│  \u001b[1m \u001b[0m\u001b[1m  \u001b[0m\u001b[1m \u001b[0m \u001b[1m \u001b[0m\u001b[1mcik    \u001b[0m\u001b[1m \u001b[0m \u001b[1m \u001b[0m\u001b[1mcompany                                       \u001b[0m\u001b[1m \u001b[0m \u001b[1;38;5;71m \u001b[0m\u001b[1;38;5;71mform \u001b[0m\u001b[1;38;5;71m \u001b[0m \u001b[1;38;5;39m \u001b[0m\u001b[1;38;5;39mfiling_date\u001b[0m\u001b[1;38;5;39m \u001b[0m \u001b[1m \u001b[0m\u001b[1maccession_number    \u001b[0m\u001b[1m \u001b[0m   │\n",
              "│  ────────────────────────────────────────────────────────────────────────────────────────────────────────────   │\n",
              "│  \u001b[1m \u001b[0m\u001b[1m0 \u001b[0m\u001b[1m \u001b[0m \u001b[1m \u001b[0m\u001b[1m1000045\u001b[0m\u001b[1m \u001b[0m \u001b[1m \u001b[0m\u001b[1mNICHOLAS FINANCIAL INC                        \u001b[0m\u001b[1m \u001b[0m \u001b[1;38;5;71m \u001b[0m\u001b[1;38;5;71m8-K  \u001b[0m\u001b[1;38;5;71m \u001b[0m \u001b[1;38;5;39m \u001b[0m\u001b[1;38;5;39m2021-10-08 \u001b[0m\u001b[1;38;5;39m \u001b[0m \u001b[1m \u001b[0m\u001b[1m0000950170-21-002063\u001b[0m\u001b[1m \u001b[0m   │\n",
              "│   1    101199    UNITED FIRE GROUP INC                           \u001b[38;5;71m \u001b[0m\u001b[38;5;71m8-K  \u001b[0m\u001b[38;5;71m \u001b[0m \u001b[38;5;39m \u001b[0m\u001b[38;5;39m2021-10-08 \u001b[0m\u001b[38;5;39m \u001b[0m  0000101199-21-000086    │\n",
              "│  \u001b[1m \u001b[0m\u001b[1m2 \u001b[0m\u001b[1m \u001b[0m \u001b[1m \u001b[0m\u001b[1m1014763\u001b[0m\u001b[1m \u001b[0m \u001b[1m \u001b[0m\u001b[1mAinos, Inc.                                   \u001b[0m\u001b[1m \u001b[0m \u001b[1;38;5;71m \u001b[0m\u001b[1;38;5;71m8-K  \u001b[0m\u001b[1;38;5;71m \u001b[0m \u001b[1;38;5;39m \u001b[0m\u001b[1;38;5;39m2021-10-08 \u001b[0m\u001b[1;38;5;39m \u001b[0m \u001b[1m \u001b[0m\u001b[1m0001654954-21-010918\u001b[0m\u001b[1m \u001b[0m   │\n",
              "│   3    1021270   BBQ HOLDINGS, INC.                              \u001b[38;5;71m \u001b[0m\u001b[38;5;71m8-K  \u001b[0m\u001b[38;5;71m \u001b[0m \u001b[38;5;39m \u001b[0m\u001b[38;5;39m2021-10-08 \u001b[0m\u001b[38;5;39m \u001b[0m  0001558370-21-013095    │\n",
              "│  \u001b[1m \u001b[0m\u001b[1m4 \u001b[0m\u001b[1m \u001b[0m \u001b[1m \u001b[0m\u001b[1m1022079\u001b[0m\u001b[1m \u001b[0m \u001b[1m \u001b[0m\u001b[1mQUEST DIAGNOSTICS INC                         \u001b[0m\u001b[1m \u001b[0m \u001b[1;38;5;71m \u001b[0m\u001b[1;38;5;71m8-K  \u001b[0m\u001b[1;38;5;71m \u001b[0m \u001b[1;38;5;39m \u001b[0m\u001b[1;38;5;39m2021-10-08 \u001b[0m\u001b[1;38;5;39m \u001b[0m \u001b[1m \u001b[0m\u001b[1m0000947871-21-001054\u001b[0m\u001b[1m \u001b[0m   │\n",
              "│   5    1036848   AEROCENTURY CORP                                \u001b[38;5;71m \u001b[0m\u001b[38;5;71m8-K  \u001b[0m\u001b[38;5;71m \u001b[0m \u001b[38;5;39m \u001b[0m\u001b[38;5;39m2021-10-08 \u001b[0m\u001b[38;5;39m \u001b[0m  0001213900-21-052056    │\n",
              "│  \u001b[1m \u001b[0m\u001b[1m6 \u001b[0m\u001b[1m \u001b[0m \u001b[1m \u001b[0m\u001b[1m1037390\u001b[0m\u001b[1m \u001b[0m \u001b[1m \u001b[0m\u001b[1mINDUS REALTY TRUST, INC.                      \u001b[0m\u001b[1m \u001b[0m \u001b[1;38;5;71m \u001b[0m\u001b[1;38;5;71m8-K  \u001b[0m\u001b[1;38;5;71m \u001b[0m \u001b[1;38;5;39m \u001b[0m\u001b[1;38;5;39m2021-10-08 \u001b[0m\u001b[1;38;5;39m \u001b[0m \u001b[1m \u001b[0m\u001b[1m0001104659-21-124653\u001b[0m\u001b[1m \u001b[0m   │\n",
              "│   7    1041859   Childrens Place, Inc.                           \u001b[38;5;71m \u001b[0m\u001b[38;5;71m8-K  \u001b[0m\u001b[38;5;71m \u001b[0m \u001b[38;5;39m \u001b[0m\u001b[38;5;39m2021-10-08 \u001b[0m\u001b[38;5;39m \u001b[0m  0001104659-21-124642    │\n",
              "│  \u001b[1m \u001b[0m\u001b[1m8 \u001b[0m\u001b[1m \u001b[0m \u001b[1m \u001b[0m\u001b[1m1044777\u001b[0m\u001b[1m \u001b[0m \u001b[1m \u001b[0m\u001b[1mOneSpan Inc.                                  \u001b[0m\u001b[1m \u001b[0m \u001b[1;38;5;71m \u001b[0m\u001b[1;38;5;71m8-K  \u001b[0m\u001b[1;38;5;71m \u001b[0m \u001b[1;38;5;39m \u001b[0m\u001b[1;38;5;39m2021-10-08 \u001b[0m\u001b[1;38;5;39m \u001b[0m \u001b[1m \u001b[0m\u001b[1m0001558370-21-013098\u001b[0m\u001b[1m \u001b[0m   │\n",
              "│   9    1058307   ORBSAT CORP                                     \u001b[38;5;71m \u001b[0m\u001b[38;5;71m8-K  \u001b[0m\u001b[38;5;71m \u001b[0m \u001b[38;5;39m \u001b[0m\u001b[38;5;39m2021-10-08 \u001b[0m\u001b[38;5;39m \u001b[0m  0001493152-21-025011    │\n",
              "│  \u001b[1m \u001b[0m\u001b[1m10\u001b[0m\u001b[1m \u001b[0m \u001b[1m \u001b[0m\u001b[1m1060224\u001b[0m\u001b[1m \u001b[0m \u001b[1m \u001b[0m\u001b[1mLIFE STORAGE LP                               \u001b[0m\u001b[1m \u001b[0m \u001b[1;38;5;71m \u001b[0m\u001b[1;38;5;71m8-K  \u001b[0m\u001b[1;38;5;71m \u001b[0m \u001b[1;38;5;39m \u001b[0m\u001b[1;38;5;39m2021-10-08 \u001b[0m\u001b[1;38;5;39m \u001b[0m \u001b[1m \u001b[0m\u001b[1m0001193125-21-294358\u001b[0m\u001b[1m \u001b[0m   │\n",
              "│   11   1069308   Acer Therapeutics Inc.                          \u001b[38;5;71m \u001b[0m\u001b[38;5;71m8-K  \u001b[0m\u001b[38;5;71m \u001b[0m \u001b[38;5;39m \u001b[0m\u001b[38;5;39m2021-10-08 \u001b[0m\u001b[38;5;39m \u001b[0m  0001564590-21-050468    │\n",
              "│  \u001b[1m \u001b[0m\u001b[1m12\u001b[0m\u001b[1m \u001b[0m \u001b[1m \u001b[0m\u001b[1m1071739\u001b[0m\u001b[1m \u001b[0m \u001b[1m \u001b[0m\u001b[1mCENTENE CORP                                  \u001b[0m\u001b[1m \u001b[0m \u001b[1;38;5;71m \u001b[0m\u001b[1;38;5;71m8-K  \u001b[0m\u001b[1;38;5;71m \u001b[0m \u001b[1;38;5;39m \u001b[0m\u001b[1;38;5;39m2021-10-08 \u001b[0m\u001b[1;38;5;39m \u001b[0m \u001b[1m \u001b[0m\u001b[1m0001071739-21-000217\u001b[0m\u001b[1m \u001b[0m   │\n",
              "│   13   107263    WILLIAMS COMPANIES, INC.                        \u001b[38;5;71m \u001b[0m\u001b[38;5;71m8-K  \u001b[0m\u001b[38;5;71m \u001b[0m \u001b[38;5;39m \u001b[0m\u001b[38;5;39m2021-10-08 \u001b[0m\u001b[38;5;39m \u001b[0m  0001193125-21-294940    │\n",
              "│  \u001b[1m \u001b[0m\u001b[1m14\u001b[0m\u001b[1m \u001b[0m \u001b[1m \u001b[0m\u001b[1m107263 \u001b[0m\u001b[1m \u001b[0m \u001b[1m \u001b[0m\u001b[1mWILLIAMS COMPANIES, INC.                      \u001b[0m\u001b[1m \u001b[0m \u001b[1;38;5;71m \u001b[0m\u001b[1;38;5;71m8-K  \u001b[0m\u001b[1;38;5;71m \u001b[0m \u001b[1;38;5;39m \u001b[0m\u001b[1;38;5;39m2021-10-08 \u001b[0m\u001b[1;38;5;39m \u001b[0m \u001b[1m \u001b[0m\u001b[1m0001193125-21-295637\u001b[0m\u001b[1m \u001b[0m   │\n",
              "│   15   1080319   Elys Game Technology, Corp.                     \u001b[38;5;71m \u001b[0m\u001b[38;5;71m8-K  \u001b[0m\u001b[38;5;71m \u001b[0m \u001b[38;5;39m \u001b[0m\u001b[38;5;39m2021-10-08 \u001b[0m\u001b[38;5;39m \u001b[0m  0001017386-21-000437    │\n",
              "│  \u001b[1m \u001b[0m\u001b[1m16\u001b[0m\u001b[1m \u001b[0m \u001b[1m \u001b[0m\u001b[1m1084048\u001b[0m\u001b[1m \u001b[0m \u001b[1m \u001b[0m\u001b[1mZIFF DAVIS, INC.                              \u001b[0m\u001b[1m \u001b[0m \u001b[1;38;5;71m \u001b[0m\u001b[1;38;5;71m8-K  \u001b[0m\u001b[1;38;5;71m \u001b[0m \u001b[1;38;5;39m \u001b[0m\u001b[1;38;5;39m2021-10-08 \u001b[0m\u001b[1;38;5;39m \u001b[0m \u001b[1m \u001b[0m\u001b[1m0001193125-21-294838\u001b[0m\u001b[1m \u001b[0m   │\n",
              "│   17   1084580   Jefferies Group LLC                             \u001b[38;5;71m \u001b[0m\u001b[38;5;71m10-Q \u001b[0m\u001b[38;5;71m \u001b[0m \u001b[38;5;39m \u001b[0m\u001b[38;5;39m2021-10-08 \u001b[0m\u001b[38;5;39m \u001b[0m  0001084580-21-000026    │\n",
              "│  \u001b[1m \u001b[0m\u001b[1m18\u001b[0m\u001b[1m \u001b[0m \u001b[1m \u001b[0m\u001b[1m1084580\u001b[0m\u001b[1m \u001b[0m \u001b[1m \u001b[0m\u001b[1mJefferies Group LLC                           \u001b[0m\u001b[1m \u001b[0m \u001b[1;38;5;71m \u001b[0m\u001b[1;38;5;71m8-K  \u001b[0m\u001b[1;38;5;71m \u001b[0m \u001b[1;38;5;39m \u001b[0m\u001b[1;38;5;39m2021-10-08 \u001b[0m\u001b[1;38;5;39m \u001b[0m \u001b[1m \u001b[0m\u001b[1m0001140361-21-034199\u001b[0m\u001b[1m \u001b[0m   │\n",
              "│   19   1104485   NORTHERN OIL & GAS, INC.                        \u001b[38;5;71m \u001b[0m\u001b[38;5;71m8-K  \u001b[0m\u001b[38;5;71m \u001b[0m \u001b[38;5;39m \u001b[0m\u001b[38;5;39m2021-10-08 \u001b[0m\u001b[38;5;39m \u001b[0m  0001104485-21-000119    │\n",
              "│  \u001b[1m \u001b[0m\u001b[1m20\u001b[0m\u001b[1m \u001b[0m \u001b[1m \u001b[0m\u001b[1m1109189\u001b[0m\u001b[1m \u001b[0m \u001b[1m \u001b[0m\u001b[1mBASIC ENERGY SERVICES, INC.                   \u001b[0m\u001b[1m \u001b[0m \u001b[1;38;5;71m \u001b[0m\u001b[1;38;5;71m8-K  \u001b[0m\u001b[1;38;5;71m \u001b[0m \u001b[1;38;5;39m \u001b[0m\u001b[1;38;5;39m2021-10-08 \u001b[0m\u001b[1;38;5;39m \u001b[0m \u001b[1m \u001b[0m\u001b[1m0001104659-21-124316\u001b[0m\u001b[1m \u001b[0m   │\n",
              "│   21   1109242   HANMI FINANCIAL CORP                            \u001b[38;5;71m \u001b[0m\u001b[38;5;71m8-K  \u001b[0m\u001b[38;5;71m \u001b[0m \u001b[38;5;39m \u001b[0m\u001b[38;5;39m2021-10-08 \u001b[0m\u001b[38;5;39m \u001b[0m  0001171843-21-006923    │\n",
              "│  \u001b[1m \u001b[0m\u001b[1m22\u001b[0m\u001b[1m \u001b[0m \u001b[1m \u001b[0m\u001b[1m1125259\u001b[0m\u001b[1m \u001b[0m \u001b[1m \u001b[0m\u001b[1mCARNIVAL PLC                                  \u001b[0m\u001b[1m \u001b[0m \u001b[1;38;5;71m \u001b[0m\u001b[1;38;5;71m8-K  \u001b[0m\u001b[1;38;5;71m \u001b[0m \u001b[1;38;5;39m \u001b[0m\u001b[1;38;5;39m2021-10-08 \u001b[0m\u001b[1;38;5;39m \u001b[0m \u001b[1m \u001b[0m\u001b[1m0000950142-21-003100\u001b[0m\u001b[1m \u001b[0m   │\n",
              "│   23   1132509   New Momentum Corp.                              \u001b[38;5;71m \u001b[0m\u001b[38;5;71mS-1/A\u001b[0m\u001b[38;5;71m \u001b[0m \u001b[38;5;39m \u001b[0m\u001b[38;5;39m2021-10-08 \u001b[0m\u001b[38;5;39m \u001b[0m  0001477932-21-007100    │\n",
              "│  \u001b[1m \u001b[0m\u001b[1m24\u001b[0m\u001b[1m \u001b[0m \u001b[1m \u001b[0m\u001b[1m1144169\u001b[0m\u001b[1m \u001b[0m \u001b[1m \u001b[0m\u001b[1mECO INNOVATION GROUP, INC.                    \u001b[0m\u001b[1m \u001b[0m \u001b[1;38;5;71m \u001b[0m\u001b[1;38;5;71m8-K  \u001b[0m\u001b[1;38;5;71m \u001b[0m \u001b[1;38;5;39m \u001b[0m\u001b[1;38;5;39m2021-10-08 \u001b[0m\u001b[1;38;5;39m \u001b[0m \u001b[1m \u001b[0m\u001b[1m0001079973-21-001023\u001b[0m\u001b[1m \u001b[0m   │\n",
              "│   25   1156388   BIG 5 SPORTING GOODS Corp                       \u001b[38;5;71m \u001b[0m\u001b[38;5;71m8-K  \u001b[0m\u001b[38;5;71m \u001b[0m \u001b[38;5;39m \u001b[0m\u001b[38;5;39m2021-10-08 \u001b[0m\u001b[38;5;39m \u001b[0m  0001193125-21-295242    │\n",
              "│  \u001b[1m \u001b[0m\u001b[1m26\u001b[0m\u001b[1m \u001b[0m \u001b[1m \u001b[0m\u001b[1m1162896\u001b[0m\u001b[1m \u001b[0m \u001b[1m \u001b[0m\u001b[1mCreek Road Miners, Inc.                       \u001b[0m\u001b[1m \u001b[0m \u001b[1;38;5;71m \u001b[0m\u001b[1;38;5;71m8-K  \u001b[0m\u001b[1;38;5;71m \u001b[0m \u001b[1;38;5;39m \u001b[0m\u001b[1;38;5;39m2021-10-08 \u001b[0m\u001b[1;38;5;39m \u001b[0m \u001b[1m \u001b[0m\u001b[1m0001493152-21-025025\u001b[0m\u001b[1m \u001b[0m   │\n",
              "│   27   1169770   BANC OF CALIFORNIA, INC.                        \u001b[38;5;71m \u001b[0m\u001b[38;5;71m8-K  \u001b[0m\u001b[38;5;71m \u001b[0m \u001b[38;5;39m \u001b[0m\u001b[38;5;39m2021-10-08 \u001b[0m\u001b[38;5;39m \u001b[0m  0001169770-21-000028    │\n",
              "│  \u001b[1m \u001b[0m\u001b[1m28\u001b[0m\u001b[1m \u001b[0m \u001b[1m \u001b[0m\u001b[1m1173313\u001b[0m\u001b[1m \u001b[0m \u001b[1m \u001b[0m\u001b[1mABVC BIOPHARMA, INC.                          \u001b[0m\u001b[1m \u001b[0m \u001b[1;38;5;71m \u001b[0m\u001b[1;38;5;71m8-K  \u001b[0m\u001b[1;38;5;71m \u001b[0m \u001b[1;38;5;39m \u001b[0m\u001b[1;38;5;39m2021-10-08 \u001b[0m\u001b[1;38;5;39m \u001b[0m \u001b[1m \u001b[0m\u001b[1m0001213900-21-052090\u001b[0m\u001b[1m \u001b[0m   │\n",
              "│   29   1174891   CalEthos, Inc.                                  \u001b[38;5;71m \u001b[0m\u001b[38;5;71m8-K  \u001b[0m\u001b[38;5;71m \u001b[0m \u001b[38;5;39m \u001b[0m\u001b[38;5;39m2021-10-08 \u001b[0m\u001b[38;5;39m \u001b[0m  0001493152-21-025007    │\n",
              "│  \u001b[1m \u001b[0m\u001b[1m30\u001b[0m\u001b[1m \u001b[0m \u001b[1m \u001b[0m\u001b[1m1175151\u001b[0m\u001b[1m \u001b[0m \u001b[1m \u001b[0m\u001b[1mCytosorbents Corp                             \u001b[0m\u001b[1m \u001b[0m \u001b[1;38;5;71m \u001b[0m\u001b[1;38;5;71m8-K  \u001b[0m\u001b[1;38;5;71m \u001b[0m \u001b[1;38;5;39m \u001b[0m\u001b[1;38;5;39m2021-10-08 \u001b[0m\u001b[1;38;5;39m \u001b[0m \u001b[1m \u001b[0m\u001b[1m0001104659-21-124388\u001b[0m\u001b[1m \u001b[0m   │\n",
              "│   31   1196298   NEPHROS INC                                     \u001b[38;5;71m \u001b[0m\u001b[38;5;71m8-K  \u001b[0m\u001b[38;5;71m \u001b[0m \u001b[38;5;39m \u001b[0m\u001b[38;5;39m2021-10-08 \u001b[0m\u001b[38;5;39m \u001b[0m  0001493152-21-025001    │\n",
              "│  \u001b[1m \u001b[0m\u001b[1m32\u001b[0m\u001b[1m \u001b[0m \u001b[1m \u001b[0m\u001b[1m1218683\u001b[0m\u001b[1m \u001b[0m \u001b[1m \u001b[0m\u001b[1mMawson Infrastructure Group Inc.              \u001b[0m\u001b[1m \u001b[0m \u001b[1;38;5;71m \u001b[0m\u001b[1;38;5;71m8-K  \u001b[0m\u001b[1;38;5;71m \u001b[0m \u001b[1;38;5;39m \u001b[0m\u001b[1;38;5;39m2021-10-08 \u001b[0m\u001b[1;38;5;39m \u001b[0m \u001b[1m \u001b[0m\u001b[1m0001213900-21-051955\u001b[0m\u001b[1m \u001b[0m   │\n",
              "│   33   1222840   RETAIL PROPERTIES OF AMERICA, INC.              \u001b[38;5;71m \u001b[0m\u001b[38;5;71m8-K  \u001b[0m\u001b[38;5;71m \u001b[0m \u001b[38;5;39m \u001b[0m\u001b[38;5;39m2021-10-08 \u001b[0m\u001b[38;5;39m \u001b[0m  0001193125-21-295627    │\n",
              "│  \u001b[1m \u001b[0m\u001b[1m34\u001b[0m\u001b[1m \u001b[0m \u001b[1m \u001b[0m\u001b[1m1261249\u001b[0m\u001b[1m \u001b[0m \u001b[1m \u001b[0m\u001b[1mAGILE THERAPEUTICS INC                        \u001b[0m\u001b[1m \u001b[0m \u001b[1;38;5;71m \u001b[0m\u001b[1;38;5;71m8-K  \u001b[0m\u001b[1;38;5;71m \u001b[0m \u001b[1;38;5;39m \u001b[0m\u001b[1;38;5;39m2021-10-08 \u001b[0m\u001b[1;38;5;39m \u001b[0m \u001b[1m \u001b[0m\u001b[1m0001104659-21-124720\u001b[0m\u001b[1m \u001b[0m   │\n",
              "│   35   1271214   Intersect ENT, Inc.                             \u001b[38;5;71m \u001b[0m\u001b[38;5;71m8-K  \u001b[0m\u001b[38;5;71m \u001b[0m \u001b[38;5;39m \u001b[0m\u001b[38;5;39m2021-10-08 \u001b[0m\u001b[38;5;39m \u001b[0m  0001271214-21-000068    │\n",
              "│  \u001b[1m \u001b[0m\u001b[1m36\u001b[0m\u001b[1m \u001b[0m \u001b[1m \u001b[0m\u001b[1m1277998\u001b[0m\u001b[1m \u001b[0m \u001b[1m \u001b[0m\u001b[1mMANUFACTURED HOUSING PROPERTIES INC.          \u001b[0m\u001b[1m \u001b[0m \u001b[1;38;5;71m \u001b[0m\u001b[1;38;5;71m8-K  \u001b[0m\u001b[1;38;5;71m \u001b[0m \u001b[1;38;5;39m \u001b[0m\u001b[1;38;5;39m2021-10-08 \u001b[0m\u001b[1;38;5;39m \u001b[0m \u001b[1m \u001b[0m\u001b[1m0001213900-21-052068\u001b[0m\u001b[1m \u001b[0m   │\n",
              "│   37   1286043   KITE REALTY GROUP TRUST                         \u001b[38;5;71m \u001b[0m\u001b[38;5;71m8-K  \u001b[0m\u001b[38;5;71m \u001b[0m \u001b[38;5;39m \u001b[0m\u001b[38;5;39m2021-10-08 \u001b[0m\u001b[38;5;39m \u001b[0m  0001104659-21-124685    │\n",
              "│  \u001b[1m \u001b[0m\u001b[1m38\u001b[0m\u001b[1m \u001b[0m \u001b[1m \u001b[0m\u001b[1m1293971\u001b[0m\u001b[1m \u001b[0m \u001b[1m \u001b[0m\u001b[1mbluebird bio, Inc.                            \u001b[0m\u001b[1m \u001b[0m \u001b[1;38;5;71m \u001b[0m\u001b[1;38;5;71m8-K  \u001b[0m\u001b[1;38;5;71m \u001b[0m \u001b[1;38;5;39m \u001b[0m\u001b[1;38;5;39m2021-10-08 \u001b[0m\u001b[1;38;5;39m \u001b[0m \u001b[1m \u001b[0m\u001b[1m0001293971-21-000076\u001b[0m\u001b[1m \u001b[0m   │\n",
              "│   39   1314152   Jones Lang LaSalle Income Property Trust, Inc.  \u001b[38;5;71m \u001b[0m\u001b[38;5;71m8-K  \u001b[0m\u001b[38;5;71m \u001b[0m \u001b[38;5;39m \u001b[0m\u001b[38;5;39m2021-10-08 \u001b[0m\u001b[38;5;39m \u001b[0m  0001314152-21-000133    │\n",
              "│  \u001b[1m \u001b[0m\u001b[1m40\u001b[0m\u001b[1m \u001b[0m \u001b[1m \u001b[0m\u001b[1m13156  \u001b[0m\u001b[1m \u001b[0m \u001b[1m \u001b[0m\u001b[1mGalaxy Gaming, Inc.                           \u001b[0m\u001b[1m \u001b[0m \u001b[1;38;5;71m \u001b[0m\u001b[1;38;5;71m8-K  \u001b[0m\u001b[1;38;5;71m \u001b[0m \u001b[1;38;5;39m \u001b[0m\u001b[1;38;5;39m2021-10-08 \u001b[0m\u001b[1;38;5;39m \u001b[0m \u001b[1m \u001b[0m\u001b[1m0001564590-21-050503\u001b[0m\u001b[1m \u001b[0m   │\n",
              "│   41   1332349   Brookdale Senior Living Inc.                    \u001b[38;5;71m \u001b[0m\u001b[38;5;71m8-K  \u001b[0m\u001b[38;5;71m \u001b[0m \u001b[38;5;39m \u001b[0m\u001b[38;5;39m2021-10-08 \u001b[0m\u001b[38;5;39m \u001b[0m  0001332349-21-000087    │\n",
              "│  \u001b[1m \u001b[0m\u001b[1m42\u001b[0m\u001b[1m \u001b[0m \u001b[1m \u001b[0m\u001b[1m1340652\u001b[0m\u001b[1m \u001b[0m \u001b[1m \u001b[0m\u001b[1mChemoCentryx, Inc.                            \u001b[0m\u001b[1m \u001b[0m \u001b[1;38;5;71m \u001b[0m\u001b[1;38;5;71m8-K  \u001b[0m\u001b[1;38;5;71m \u001b[0m \u001b[1;38;5;39m \u001b[0m\u001b[1;38;5;39m2021-10-08 \u001b[0m\u001b[1;38;5;39m \u001b[0m \u001b[1m \u001b[0m\u001b[1m0001193125-21-295134\u001b[0m\u001b[1m \u001b[0m   │\n",
              "│   43   1347178   Vanda Pharmaceuticals Inc.                      \u001b[38;5;71m \u001b[0m\u001b[38;5;71m8-K  \u001b[0m\u001b[38;5;71m \u001b[0m \u001b[38;5;39m \u001b[0m\u001b[38;5;39m2021-10-08 \u001b[0m\u001b[38;5;39m \u001b[0m  0001193125-21-295465    │\n",
              "│  \u001b[1m \u001b[0m\u001b[1m44\u001b[0m\u001b[1m \u001b[0m \u001b[1m \u001b[0m\u001b[1m1354866\u001b[0m\u001b[1m \u001b[0m \u001b[1m \u001b[0m\u001b[1mByrna Technologies Inc.                       \u001b[0m\u001b[1m \u001b[0m \u001b[1;38;5;71m \u001b[0m\u001b[1;38;5;71m10-Q \u001b[0m\u001b[1;38;5;71m \u001b[0m \u001b[1;38;5;39m \u001b[0m\u001b[1;38;5;39m2021-10-08 \u001b[0m\u001b[1;38;5;39m \u001b[0m \u001b[1m \u001b[0m\u001b[1m0001437749-21-023479\u001b[0m\u001b[1m \u001b[0m   │\n",
              "│   45   1354866   Byrna Technologies Inc.                         \u001b[38;5;71m \u001b[0m\u001b[38;5;71m8-K  \u001b[0m\u001b[38;5;71m \u001b[0m \u001b[38;5;39m \u001b[0m\u001b[38;5;39m2021-10-08 \u001b[0m\u001b[38;5;39m \u001b[0m  0001437749-21-023471    │\n",
              "│  \u001b[1m \u001b[0m\u001b[1m46\u001b[0m\u001b[1m \u001b[0m \u001b[1m \u001b[0m\u001b[1m1370880\u001b[0m\u001b[1m \u001b[0m \u001b[1m \u001b[0m\u001b[1mMandiant, Inc.                                \u001b[0m\u001b[1m \u001b[0m \u001b[1;38;5;71m \u001b[0m\u001b[1;38;5;71m8-K  \u001b[0m\u001b[1;38;5;71m \u001b[0m \u001b[1;38;5;39m \u001b[0m\u001b[1;38;5;39m2021-10-08 \u001b[0m\u001b[1;38;5;39m \u001b[0m \u001b[1m \u001b[0m\u001b[1m0001370880-21-000042\u001b[0m\u001b[1m \u001b[0m   │\n",
              "│   47   1372184   New You, Inc.                                   \u001b[38;5;71m \u001b[0m\u001b[38;5;71m8-K  \u001b[0m\u001b[38;5;71m \u001b[0m \u001b[38;5;39m \u001b[0m\u001b[38;5;39m2021-10-08 \u001b[0m\u001b[38;5;39m \u001b[0m  0001493152-21-025054    │\n",
              "│  \u001b[1m \u001b[0m\u001b[1m48\u001b[0m\u001b[1m \u001b[0m \u001b[1m \u001b[0m\u001b[1m1387061\u001b[0m\u001b[1m \u001b[0m \u001b[1m \u001b[0m\u001b[1mLightstone Value Plus REIT V, Inc.            \u001b[0m\u001b[1m \u001b[0m \u001b[1;38;5;71m \u001b[0m\u001b[1;38;5;71m8-K  \u001b[0m\u001b[1;38;5;71m \u001b[0m \u001b[1;38;5;39m \u001b[0m\u001b[1;38;5;39m2021-10-08 \u001b[0m\u001b[1;38;5;39m \u001b[0m \u001b[1m \u001b[0m\u001b[1m0001829126-21-011717\u001b[0m\u001b[1m \u001b[0m   │\n",
              "│   49   1398733   Aquestive Therapeutics, Inc.                    \u001b[38;5;71m \u001b[0m\u001b[38;5;71m8-K  \u001b[0m\u001b[38;5;71m \u001b[0m \u001b[38;5;39m \u001b[0m\u001b[38;5;39m2021-10-08 \u001b[0m\u001b[38;5;39m \u001b[0m  0001628280-21-019915    │\n",
              "│                                                                                                                 │\n",
              "│ Showing 50 of 1,500 filings                                                                                     │\n",
              "╰─────────────────────────────────────────────────────────────────────────────────────────────────────────────────╯"
            ]
          },
          "metadata": {},
          "execution_count": 14
        }
      ]
    },
    {
      "cell_type": "markdown",
      "source": [
        "## Filter Filings"
      ],
      "metadata": {
        "id": "01Tw0N6fN2FT"
      }
    },
    {
      "cell_type": "code",
      "source": [
        "filings.filter(date=\"2021-10-01:2021-10-03\").head(5)"
      ],
      "metadata": {
        "colab": {
          "base_uri": "https://localhost:8080/",
          "height": 221
        },
        "id": "dgCCa0ADN3Iu",
        "outputId": "80a1a058-1f31-4ca6-aa64-91de3db8b82d"
      },
      "execution_count": null,
      "outputs": [
        {
          "output_type": "display_data",
          "data": {
            "text/plain": [],
            "text/html": [
              "<pre style=\"white-space:pre;overflow-x:auto;line-height:normal;font-family:Menlo,'DejaVu Sans Mono',consolas,'Courier New',monospace\"></pre>\n"
            ]
          },
          "metadata": {}
        },
        {
          "output_type": "execute_result",
          "data": {
            "text/plain": [
              "╭──────────────────────────────────────────────────── Filings ────────────────────────────────────────────────────╮\n",
              "│                                                                                                                 │\n",
              "│  \u001b[1m \u001b[0m\u001b[1m \u001b[0m\u001b[1m \u001b[0m \u001b[1m \u001b[0m\u001b[1mcik    \u001b[0m\u001b[1m \u001b[0m \u001b[1m \u001b[0m\u001b[1mcompany                          \u001b[0m\u001b[1m \u001b[0m \u001b[1;38;5;71m \u001b[0m\u001b[1;38;5;71mform\u001b[0m\u001b[1;38;5;71m \u001b[0m \u001b[1;38;5;39m \u001b[0m\u001b[1;38;5;39mfiling_date\u001b[0m\u001b[1;38;5;39m \u001b[0m \u001b[1m \u001b[0m\u001b[1maccession_number    \u001b[0m\u001b[1m \u001b[0m                  │\n",
              "│  ─────────────────────────────────────────────────────────────────────────────────────────────                  │\n",
              "│  \u001b[1m \u001b[0m\u001b[1m0\u001b[0m\u001b[1m \u001b[0m \u001b[1m \u001b[0m\u001b[1m1000177\u001b[0m\u001b[1m \u001b[0m \u001b[1m \u001b[0m\u001b[1mNORDIC AMERICAN TANKERS Ltd      \u001b[0m\u001b[1m \u001b[0m \u001b[1;38;5;71m \u001b[0m\u001b[1;38;5;71m6-K \u001b[0m\u001b[1;38;5;71m \u001b[0m \u001b[1;38;5;39m \u001b[0m\u001b[1;38;5;39m2021-10-01 \u001b[0m\u001b[1;38;5;39m \u001b[0m \u001b[1m \u001b[0m\u001b[1m0001140361-21-033186\u001b[0m\u001b[1m \u001b[0m                  │\n",
              "│   1   1009829   JAKKS PACIFIC INC                  \u001b[38;5;71m \u001b[0m\u001b[38;5;71m8-K \u001b[0m\u001b[38;5;71m \u001b[0m \u001b[38;5;39m \u001b[0m\u001b[38;5;39m2021-10-01 \u001b[0m\u001b[38;5;39m \u001b[0m  0001185185-21-001434                   │\n",
              "│  \u001b[1m \u001b[0m\u001b[1m2\u001b[0m\u001b[1m \u001b[0m \u001b[1m \u001b[0m\u001b[1m1012100\u001b[0m\u001b[1m \u001b[0m \u001b[1m \u001b[0m\u001b[1mSEALED AIR CORP/DE               \u001b[0m\u001b[1m \u001b[0m \u001b[1;38;5;71m \u001b[0m\u001b[1;38;5;71m8-K \u001b[0m\u001b[1;38;5;71m \u001b[0m \u001b[1;38;5;39m \u001b[0m\u001b[1;38;5;39m2021-10-01 \u001b[0m\u001b[1;38;5;39m \u001b[0m \u001b[1m \u001b[0m\u001b[1m0001628280-21-019413\u001b[0m\u001b[1m \u001b[0m                  │\n",
              "│   3   1013237   FACTSET RESEARCH SYSTEMS INC       \u001b[38;5;71m \u001b[0m\u001b[38;5;71m8-K \u001b[0m\u001b[38;5;71m \u001b[0m \u001b[38;5;39m \u001b[0m\u001b[38;5;39m2021-10-01 \u001b[0m\u001b[38;5;39m \u001b[0m  0001013237-21-000124                   │\n",
              "│  \u001b[1m \u001b[0m\u001b[1m4\u001b[0m\u001b[1m \u001b[0m \u001b[1m \u001b[0m\u001b[1m1022899\u001b[0m\u001b[1m \u001b[0m \u001b[1m \u001b[0m\u001b[1mProtagenic Therapeutics, Inc.\\new\u001b[0m\u001b[1m \u001b[0m \u001b[1;38;5;71m \u001b[0m\u001b[1;38;5;71m8-K \u001b[0m\u001b[1;38;5;71m \u001b[0m \u001b[1;38;5;39m \u001b[0m\u001b[1;38;5;39m2021-10-01 \u001b[0m\u001b[1;38;5;39m \u001b[0m \u001b[1m \u001b[0m\u001b[1m0001493152-21-024376\u001b[0m\u001b[1m \u001b[0m                  │\n",
              "│                                                                                                                 │\n",
              "│ Showing 5 of 5 filings                                                                                          │\n",
              "╰─────────────────────────────────────────────────────────────────────────────────────────────────────────────────╯"
            ]
          },
          "metadata": {},
          "execution_count": 17
        }
      ]
    },
    {
      "cell_type": "markdown",
      "source": [
        "## Filing formats"
      ],
      "metadata": {
        "id": "0u2c6fokPkWf"
      }
    },
    {
      "cell_type": "code",
      "source": [
        "filing = ten_k_filings[4]"
      ],
      "metadata": {
        "id": "pbhmRGhVOHIQ"
      },
      "execution_count": null,
      "outputs": []
    },
    {
      "cell_type": "code",
      "source": [
        "filing"
      ],
      "metadata": {
        "colab": {
          "base_uri": "https://localhost:8080/",
          "height": 255
        },
        "id": "shhseNR1Pmw-",
        "outputId": "4dccf9bb-fdd2-4392-bef0-3856116c0d50"
      },
      "execution_count": null,
      "outputs": [
        {
          "output_type": "display_data",
          "data": {
            "text/plain": [],
            "text/html": [
              "<pre style=\"white-space:pre;overflow-x:auto;line-height:normal;font-family:Menlo,'DejaVu Sans Mono',consolas,'Courier New',monospace\"></pre>\n"
            ]
          },
          "metadata": {}
        },
        {
          "output_type": "execute_result",
          "data": {
            "text/plain": [
              "╭─────────────────────────────────────── 10-K/A 📊 filing for Novelis Inc. ───────────────────────────────────────╮\n",
              "│                                                                                                                 │\n",
              "│  \u001b[1m \u001b[0m\u001b[1mAccession Number    \u001b[0m\u001b[1m \u001b[0m \u001b[1m \u001b[0m\u001b[1mFiling Date\u001b[0m\u001b[1m \u001b[0m \u001b[1m \u001b[0m\u001b[1mCompany     \u001b[0m\u001b[1m \u001b[0m \u001b[1m \u001b[0m\u001b[1mCIK    \u001b[0m\u001b[1m \u001b[0m                                                  │\n",
              "│  ─────────────────────────────────────────────────────────────                                                  │\n",
              "│  \u001b[1m \u001b[0m\u001b[1m0001304280-23-000035\u001b[0m\u001b[1m \u001b[0m  2023-06-16    Novelis Inc.   1304280                                                   │\n",
              "│                                                                                                                 │\n",
              "│                                                                                                                 │\n",
              "│  \u001b[1m \u001b[0m\u001b[1mLink                   \u001b[0m\u001b[1m \u001b[0m \u001b[1m \u001b[0m\u001b[1mURL                                                                              \u001b[0m\u001b[1m \u001b[0m  │\n",
              "│  ─────────────────────────────────────────────────────────────────────────────────────────────────────────────  │\n",
              "│  \u001b[1m \u001b[0m\u001b[1m🏠 Homepage            \u001b[0m\u001b[1m \u001b[0m  https://www.sec.gov/Archives/edgar/data/1304280/0001304280-23-000035-index.html     │\n",
              "│  \u001b[1m \u001b[0m\u001b[1m📄 Primary Document    \u001b[0m\u001b[1m \u001b[0m  https://www.sec.gov/Archives/edgar/data/1304280/000130428023000035/nvl-20230331.…   │\n",
              "│  \u001b[1m \u001b[0m\u001b[1m📒 Full Submission Text\u001b[0m\u001b[1m \u001b[0m  https://www.sec.gov/Archives/edgar/data/1304280/000130428023000035/0001304280-23…   │\n",
              "│                                                                                                                 │\n",
              "╰─────────────────────────────────────────────────────────────────────────────────────────────────────────────────╯"
            ]
          },
          "metadata": {},
          "execution_count": 19
        }
      ]
    },
    {
      "cell_type": "code",
      "source": [
        "filing.html()"
      ],
      "metadata": {
        "id": "fM0JwLAlPnK-"
      },
      "execution_count": null,
      "outputs": []
    },
    {
      "cell_type": "code",
      "source": [
        "filing.markdown()"
      ],
      "metadata": {
        "id": "mNQY9ZotPzx0"
      },
      "execution_count": null,
      "outputs": []
    },
    {
      "cell_type": "code",
      "source": [
        "filing.xbrl()"
      ],
      "metadata": {
        "colab": {
          "base_uri": "https://localhost:8080/",
          "height": 561
        },
        "id": "MAlmi4nfRfpp",
        "outputId": "0df5d413-511f-4586-9169-48c83ee94c53"
      },
      "execution_count": null,
      "outputs": [
        {
          "output_type": "display_data",
          "data": {
            "text/plain": [],
            "text/html": [
              "<pre style=\"white-space:pre;overflow-x:auto;line-height:normal;font-family:Menlo,'DejaVu Sans Mono',consolas,'Courier New',monospace\"></pre>\n"
            ]
          },
          "metadata": {}
        },
        {
          "output_type": "execute_result",
          "data": {
            "text/plain": [
              "Form 10-K/A Extracted XBRL\n",
              "                                                        \n",
              " \u001b[1m \u001b[0m\u001b[1m            \u001b[0m\u001b[1m \u001b[0m \u001b[1m \u001b[0m\u001b[1mcik    \u001b[0m\u001b[1m \u001b[0m \u001b[1;38;5;71m \u001b[0m\u001b[1;38;5;71mform  \u001b[0m\u001b[1;38;5;71m \u001b[0m \u001b[1m \u001b[0m\u001b[1mnamespaces\u001b[0m\u001b[1m \u001b[0m \u001b[1m \u001b[0m\u001b[1mfacts\u001b[0m\u001b[1m \u001b[0m \n",
              " ────────────────────────────────────────────────────── \n",
              " \u001b[1m \u001b[0m\u001b[1mNovelis Inc.\u001b[0m\u001b[1m \u001b[0m \u001b[1m \u001b[0m\u001b[1m1304280\u001b[0m\u001b[1m \u001b[0m \u001b[1;38;5;71m \u001b[0m\u001b[1;38;5;71m10-K/A\u001b[0m\u001b[1;38;5;71m \u001b[0m \u001b[1m \u001b[0m\u001b[1m5         \u001b[0m\u001b[1m \u001b[0m \u001b[1m \u001b[0m\u001b[1m50   \u001b[0m\u001b[1m \u001b[0m \n",
              "                                                        \n",
              "Facts\n",
              "                                                                                 \n",
              " \u001b[1m \u001b[0m\u001b[1m   \u001b[0m\u001b[1m \u001b[0m \u001b[1m \u001b[0m\u001b[1mnamespace\u001b[0m\u001b[1m \u001b[0m \u001b[1;38;5;39m \u001b[0m\u001b[1;38;5;39mfact                     \u001b[0m\u001b[1;38;5;39m \u001b[0m \u001b[1m \u001b[0m\u001b[1mvalue     \u001b[0m\u001b[1m \u001b[0m \u001b[1m \u001b[0m\u001b[1munits\u001b[0m\u001b[1m \u001b[0m \u001b[1m \u001b[0m\u001b[1mend_date  \u001b[0m\u001b[1m \u001b[0m \n",
              " ─────────────────────────────────────────────────────────────────────────────── \n",
              " \u001b[1m \u001b[0m\u001b[1m0  \u001b[0m\u001b[1m \u001b[0m \u001b[1m \u001b[0m\u001b[1mdei      \u001b[0m\u001b[1m \u001b[0m \u001b[1;38;5;39m \u001b[0m\u001b[1;38;5;39mEntityCentralIndexKey    \u001b[0m\u001b[1;38;5;39m \u001b[0m \u001b[1m \u001b[0m\u001b[1m0001304280\u001b[0m\u001b[1m \u001b[0m \u001b[1m \u001b[0m\u001b[1mNone \u001b[0m\u001b[1m \u001b[0m \u001b[1m \u001b[0m\u001b[1m2023-03-31\u001b[0m\u001b[1m \u001b[0m \n",
              "  1     dei        \u001b[38;5;39m \u001b[0m\u001b[38;5;39mAmendmentFlag            \u001b[0m\u001b[38;5;39m \u001b[0m  False        None    2023-03-31  \n",
              " \u001b[1m \u001b[0m\u001b[1m2  \u001b[0m\u001b[1m \u001b[0m \u001b[1m \u001b[0m\u001b[1mdei      \u001b[0m\u001b[1m \u001b[0m \u001b[1;38;5;39m \u001b[0m\u001b[1;38;5;39mDocumentFiscalYearFocus  \u001b[0m\u001b[1;38;5;39m \u001b[0m \u001b[1m \u001b[0m\u001b[1m2023      \u001b[0m\u001b[1m \u001b[0m \u001b[1m \u001b[0m\u001b[1mNone \u001b[0m\u001b[1m \u001b[0m \u001b[1m \u001b[0m\u001b[1m2023-03-31\u001b[0m\u001b[1m \u001b[0m \n",
              "  3     dei        \u001b[38;5;39m \u001b[0m\u001b[38;5;39mDocumentFiscalPeriodFocus\u001b[0m\u001b[38;5;39m \u001b[0m  FY           None    2023-03-31  \n",
              " \u001b[1m \u001b[0m\u001b[1m4  \u001b[0m\u001b[1m \u001b[0m \u001b[1m \u001b[0m\u001b[1mdei      \u001b[0m\u001b[1m \u001b[0m \u001b[1;38;5;39m \u001b[0m\u001b[1;38;5;39mDocumentPeriodEndDate    \u001b[0m\u001b[1;38;5;39m \u001b[0m \u001b[1m \u001b[0m\u001b[1m2023-03-31\u001b[0m\u001b[1m \u001b[0m \u001b[1m \u001b[0m\u001b[1mNone \u001b[0m\u001b[1m \u001b[0m \u001b[1m \u001b[0m\u001b[1m2023-03-31\u001b[0m\u001b[1m \u001b[0m \n",
              "  ...   ...        \u001b[38;5;39m \u001b[0m\u001b[38;5;39m...                      \u001b[0m\u001b[38;5;39m \u001b[0m  ...          ...     ...         \n",
              " \u001b[1m \u001b[0m\u001b[1m45 \u001b[0m\u001b[1m \u001b[0m \u001b[1m \u001b[0m\u001b[1mdei      \u001b[0m\u001b[1m \u001b[0m \u001b[1;38;5;39m \u001b[0m\u001b[1;38;5;39mCurrentFiscalYearEndDate \u001b[0m\u001b[1;38;5;39m \u001b[0m \u001b[1m \u001b[0m\u001b[1m--03-31   \u001b[0m\u001b[1m \u001b[0m \u001b[1m \u001b[0m\u001b[1mNone \u001b[0m\u001b[1m \u001b[0m \u001b[1m \u001b[0m\u001b[1m2023-03-31\u001b[0m\u001b[1m \u001b[0m \n",
              "  46    dei        \u001b[38;5;39m \u001b[0m\u001b[38;5;39mDocumentPeriodEndDate    \u001b[0m\u001b[38;5;39m \u001b[0m  2023-03-31   None    2023-03-31  \n",
              " \u001b[1m \u001b[0m\u001b[1m47 \u001b[0m\u001b[1m \u001b[0m \u001b[1m \u001b[0m\u001b[1mdei      \u001b[0m\u001b[1m \u001b[0m \u001b[1;38;5;39m \u001b[0m\u001b[1;38;5;39mCurrentFiscalYearEndDate \u001b[0m\u001b[1;38;5;39m \u001b[0m \u001b[1m \u001b[0m\u001b[1m--03-31   \u001b[0m\u001b[1m \u001b[0m \u001b[1m \u001b[0m\u001b[1mNone \u001b[0m\u001b[1m \u001b[0m \u001b[1m \u001b[0m\u001b[1m2023-03-31\u001b[0m\u001b[1m \u001b[0m \n",
              "  48    dei        \u001b[38;5;39m \u001b[0m\u001b[38;5;39mDocumentPeriodEndDate    \u001b[0m\u001b[38;5;39m \u001b[0m  2023-03-31   None    2023-03-31  \n",
              " \u001b[1m \u001b[0m\u001b[1m49 \u001b[0m\u001b[1m \u001b[0m \u001b[1m \u001b[0m\u001b[1mdei      \u001b[0m\u001b[1m \u001b[0m \u001b[1;38;5;39m \u001b[0m\u001b[1;38;5;39mCurrentFiscalYearEndDate \u001b[0m\u001b[1;38;5;39m \u001b[0m \u001b[1m \u001b[0m\u001b[1m--03-31   \u001b[0m\u001b[1m \u001b[0m \u001b[1m \u001b[0m\u001b[1mNone \u001b[0m\u001b[1m \u001b[0m \u001b[1m \u001b[0m\u001b[1m2023-03-31\u001b[0m\u001b[1m \u001b[0m \n",
              "                                                                                 \n",
              "Taxonomies\n",
              "                                                    \n",
              " \u001b[1m \u001b[0m\u001b[1m \u001b[0m\u001b[1m \u001b[0m \u001b[1m \u001b[0m\u001b[1mtaxonomy\u001b[0m\u001b[1m \u001b[0m \u001b[1m \u001b[0m\u001b[1mnamespace                        \u001b[0m\u001b[1m \u001b[0m \n",
              " ────────────────────────────────────────────────── \n",
              " \u001b[1m \u001b[0m\u001b[1m0\u001b[0m\u001b[1m \u001b[0m \u001b[1m \u001b[0m\u001b[1mdei     \u001b[0m\u001b[1m \u001b[0m \u001b[1m \u001b[0m\u001b[1mhttp://xbrl.sec.gov/dei/2023     \u001b[0m\u001b[1m \u001b[0m \n",
              "  1   iso4217    http://www.xbrl.org/2003/iso4217   \n",
              " \u001b[1m \u001b[0m\u001b[1m2\u001b[0m\u001b[1m \u001b[0m \u001b[1m \u001b[0m\u001b[1mlang    \u001b[0m\u001b[1m \u001b[0m \u001b[1m \u001b[0m\u001b[1men-US                            \u001b[0m\u001b[1m \u001b[0m \n",
              "  3   link       http://www.xbrl.org/2003/linkbase  \n",
              " \u001b[1m \u001b[0m\u001b[1m4\u001b[0m\u001b[1m \u001b[0m \u001b[1m \u001b[0m\u001b[1mxlink   \u001b[0m\u001b[1m \u001b[0m \u001b[1m \u001b[0m\u001b[1mhttp://www.w3.org/1999/xlink     \u001b[0m\u001b[1m \u001b[0m \n",
              "                                                    "
            ]
          },
          "metadata": {},
          "execution_count": 24
        }
      ]
    },
    {
      "cell_type": "markdown",
      "source": [
        "## Search for company"
      ],
      "metadata": {
        "id": "Uu2gteceSJF5"
      }
    },
    {
      "cell_type": "code",
      "source": [
        "googl = edgar.Company(\"googl\")\n",
        "googl"
      ],
      "metadata": {
        "colab": {
          "base_uri": "https://localhost:8080/",
          "height": 238
        },
        "id": "Etm4a4j4SKJF",
        "outputId": "5ab448a0-5949-4f36-9048-576ece254cef"
      },
      "execution_count": 29,
      "outputs": [
        {
          "output_type": "display_data",
          "data": {
            "text/plain": [],
            "text/html": [
              "<pre style=\"white-space:pre;overflow-x:auto;line-height:normal;font-family:Menlo,'DejaVu Sans Mono',consolas,'Courier New',monospace\"></pre>\n"
            ]
          },
          "metadata": {}
        },
        {
          "output_type": "execute_result",
          "data": {
            "text/plain": [
              "╭──────────────────────────────────────────────── Alphabet Inc.  ─────────────────────────────────────────────────╮\n",
              "│                                                                                                                 │\n",
              "│  \u001b[1m \u001b[0m\u001b[1mcik    \u001b[0m\u001b[1m \u001b[0m \u001b[1m \u001b[0m\u001b[1mcategory               \u001b[0m\u001b[1m \u001b[0m \u001b[1;38;5;39m \u001b[0m\u001b[1;38;5;39mindustry                                            \u001b[0m\u001b[1;38;5;39m \u001b[0m                     │\n",
              "│  ──────────────────────────────────────────────────────────────────────────────────────────                     │\n",
              "│  \u001b[1m \u001b[0m\u001b[1m1652044\u001b[0m\u001b[1m \u001b[0m \u001b[1m \u001b[0m\u001b[1mLarge accelerated filer\u001b[0m\u001b[1m \u001b[0m \u001b[1;38;5;39m \u001b[0m\u001b[1;38;5;39mServices-Computer Programming, Data Processing, Etc.\u001b[0m\u001b[1;38;5;39m \u001b[0m                     │\n",
              "│                                                                                                                 │\n",
              "│                                                                                                                 │\n",
              "│  \u001b[1m \u001b[0m\u001b[1mticker\u001b[0m\u001b[1m \u001b[0m \u001b[1m \u001b[0m\u001b[1mexchange\u001b[0m\u001b[1m \u001b[0m                                                                                            │\n",
              "│  ───────────────────                                                                                            │\n",
              "│  \u001b[1m \u001b[0m\u001b[1mGOOGL \u001b[0m\u001b[1m \u001b[0m \u001b[1m \u001b[0m\u001b[1mNasdaq  \u001b[0m\u001b[1m \u001b[0m                                                                                            │\n",
              "│   GOOG     Nasdaq                                                                                               │\n",
              "│                                                                                                                 │\n",
              "╰─────────────────────────────────────────────────────────────────────────────────────────────────────────────────╯"
            ]
          },
          "metadata": {},
          "execution_count": 29
        }
      ]
    },
    {
      "cell_type": "code",
      "source": [
        "googl.get_filings().head(5)"
      ],
      "metadata": {
        "colab": {
          "base_uri": "https://localhost:8080/",
          "height": 357
        },
        "id": "bGHoASErSX7y",
        "outputId": "faf2ef5b-62d6-4f6e-ddac-e8991ba69acf"
      },
      "execution_count": null,
      "outputs": [
        {
          "output_type": "display_data",
          "data": {
            "text/plain": [],
            "text/html": [
              "<pre style=\"white-space:pre;overflow-x:auto;line-height:normal;font-family:Menlo,'DejaVu Sans Mono',consolas,'Courier New',monospace\"></pre>\n"
            ]
          },
          "metadata": {}
        },
        {
          "output_type": "execute_result",
          "data": {
            "text/plain": [
              "╭──────────────────────────────────────────────────── Filings ────────────────────────────────────────────────────╮\n",
              "│                                                                                                                 │\n",
              "│  \u001b[1m \u001b[0m\u001b[1m \u001b[0m\u001b[1m \u001b[0m \u001b[1m \u001b[0m\u001b[1macces…\u001b[0m\u001b[1m \u001b[0m \u001b[1;38;5;39m \u001b[0m\u001b[1;38;5;39mfilin…\u001b[0m\u001b[1;38;5;39m \u001b[0m \u001b[1m \u001b[0m\u001b[1mrepo…\u001b[0m\u001b[1m \u001b[0m \u001b[1m \u001b[0m\u001b[1maccep…\u001b[0m\u001b[1m \u001b[0m \u001b[1m \u001b[0m\u001b[1mact\u001b[0m\u001b[1m \u001b[0m \u001b[1;38;5;71m \u001b[0m\u001b[1;38;5;71mform\u001b[0m\u001b[1;38;5;71m \u001b[0m \u001b[1m \u001b[0m\u001b[1mfile…\u001b[0m\u001b[1m \u001b[0m \u001b[1m \u001b[0m\u001b[1mitems\u001b[0m\u001b[1m \u001b[0m \u001b[1m \u001b[0m\u001b[1msize \u001b[0m\u001b[1m \u001b[0m \u001b[1m \u001b[0m\u001b[1misXBRL\u001b[0m\u001b[1m \u001b[0m \u001b[1m \u001b[0m\u001b[1misIn…\u001b[0m\u001b[1m \u001b[0m \u001b[1m \u001b[0m\u001b[1mprima…\u001b[0m\u001b[1m \u001b[0m \u001b[1m \u001b[0m\u001b[1mprim…\u001b[0m\u001b[1m \u001b[0m  │\n",
              "│  ─────────────────────────────────────────────────────────────────────────────────────────────────────────────  │\n",
              "│  \u001b[1m \u001b[0m\u001b[1m0\u001b[0m\u001b[1m \u001b[0m \u001b[1m \u001b[0m\u001b[1m00012…\u001b[0m\u001b[1m \u001b[0m \u001b[1;38;5;39m \u001b[0m\u001b[1;38;5;39m2023-…\u001b[0m\u001b[1;38;5;39m \u001b[0m \u001b[1m \u001b[0m\u001b[1m2023…\u001b[0m\u001b[1m \u001b[0m \u001b[1m \u001b[0m\u001b[1m2023-…\u001b[0m\u001b[1m \u001b[0m \u001b[1m \u001b[0m\u001b[1m34 \u001b[0m\u001b[1m \u001b[0m \u001b[1;38;5;71m \u001b[0m\u001b[1;38;5;71m4   \u001b[0m\u001b[1;38;5;71m \u001b[0m \u001b[1m \u001b[0m\u001b[1m001-…\u001b[0m\u001b[1m \u001b[0m \u001b[1m \u001b[0m\u001b[1m     \u001b[0m\u001b[1m \u001b[0m \u001b[1m \u001b[0m\u001b[1m24320\u001b[0m\u001b[1m \u001b[0m \u001b[1m \u001b[0m\u001b[1m0     \u001b[0m\u001b[1m \u001b[0m \u001b[1m \u001b[0m\u001b[1m0    \u001b[0m\u001b[1m \u001b[0m \u001b[1m \u001b[0m\u001b[1mxslF3…\u001b[0m\u001b[1m \u001b[0m \u001b[1m \u001b[0m\u001b[1mFORM \u001b[0m\u001b[1m \u001b[0m  │\n",
              "│  \u001b[1m   \u001b[0m \u001b[1m        \u001b[0m \u001b[1;38;5;39m        \u001b[0m \u001b[1m       \u001b[0m \u001b[1m        \u001b[0m \u001b[1m     \u001b[0m \u001b[1;38;5;71m      \u001b[0m \u001b[1m       \u001b[0m \u001b[1m       \u001b[0m \u001b[1m       \u001b[0m \u001b[1m        \u001b[0m \u001b[1m       \u001b[0m \u001b[1m        \u001b[0m \u001b[1m \u001b[0m\u001b[1m4    \u001b[0m\u001b[1m \u001b[0m  │\n",
              "│  \u001b[1m   \u001b[0m \u001b[1m        \u001b[0m \u001b[1;38;5;39m        \u001b[0m \u001b[1m       \u001b[0m \u001b[1m        \u001b[0m \u001b[1m     \u001b[0m \u001b[1;38;5;71m      \u001b[0m \u001b[1m       \u001b[0m \u001b[1m       \u001b[0m \u001b[1m       \u001b[0m \u001b[1m        \u001b[0m \u001b[1m       \u001b[0m \u001b[1m        \u001b[0m \u001b[1m \u001b[0m\u001b[1mSUBM…\u001b[0m\u001b[1m \u001b[0m  │\n",
              "│   1   00012…  \u001b[38;5;39m \u001b[0m\u001b[38;5;39m2023-…\u001b[0m\u001b[38;5;39m \u001b[0m  2023…   2023-…        \u001b[38;5;71m \u001b[0m\u001b[38;5;71m4   \u001b[0m\u001b[38;5;71m \u001b[0m                  9551    0        0       xslF3…   FORM    │\n",
              "│               \u001b[38;5;39m        \u001b[0m                        \u001b[38;5;71m      \u001b[0m                                                    4       │\n",
              "│               \u001b[38;5;39m        \u001b[0m                        \u001b[38;5;71m      \u001b[0m                                                    SUBM…   │\n",
              "│  \u001b[1m \u001b[0m\u001b[1m2\u001b[0m\u001b[1m \u001b[0m \u001b[1m \u001b[0m\u001b[1m00019…\u001b[0m\u001b[1m \u001b[0m \u001b[1;38;5;39m \u001b[0m\u001b[1;38;5;39m2023-…\u001b[0m\u001b[1;38;5;39m \u001b[0m \u001b[1m \u001b[0m\u001b[1m     \u001b[0m\u001b[1m \u001b[0m \u001b[1m \u001b[0m\u001b[1m2023-…\u001b[0m\u001b[1m \u001b[0m \u001b[1m \u001b[0m\u001b[1m33 \u001b[0m\u001b[1m \u001b[0m \u001b[1;38;5;71m \u001b[0m\u001b[1;38;5;71m144 \u001b[0m\u001b[1;38;5;71m \u001b[0m \u001b[1m \u001b[0m\u001b[1m001-…\u001b[0m\u001b[1m \u001b[0m \u001b[1m \u001b[0m\u001b[1m     \u001b[0m\u001b[1m \u001b[0m \u001b[1m \u001b[0m\u001b[1m4986 \u001b[0m\u001b[1m \u001b[0m \u001b[1m \u001b[0m\u001b[1m0     \u001b[0m\u001b[1m \u001b[0m \u001b[1m \u001b[0m\u001b[1m0    \u001b[0m\u001b[1m \u001b[0m \u001b[1m \u001b[0m\u001b[1mprima…\u001b[0m\u001b[1m \u001b[0m \u001b[1m \u001b[0m\u001b[1m     \u001b[0m\u001b[1m \u001b[0m  │\n",
              "│   3   00012…  \u001b[38;5;39m \u001b[0m\u001b[38;5;39m2023-…\u001b[0m\u001b[38;5;39m \u001b[0m  2023…   2023-…   34   \u001b[38;5;71m \u001b[0m\u001b[38;5;71m4   \u001b[0m\u001b[38;5;71m \u001b[0m  001-…           24321   0        0       xslF3…   FORM    │\n",
              "│               \u001b[38;5;39m        \u001b[0m                        \u001b[38;5;71m      \u001b[0m                                                    4       │\n",
              "│               \u001b[38;5;39m        \u001b[0m                        \u001b[38;5;71m      \u001b[0m                                                    SUBM…   │\n",
              "│  \u001b[1m \u001b[0m\u001b[1m4\u001b[0m\u001b[1m \u001b[0m \u001b[1m \u001b[0m\u001b[1m00012…\u001b[0m\u001b[1m \u001b[0m \u001b[1;38;5;39m \u001b[0m\u001b[1;38;5;39m2023-…\u001b[0m\u001b[1;38;5;39m \u001b[0m \u001b[1m \u001b[0m\u001b[1m2023…\u001b[0m\u001b[1m \u001b[0m \u001b[1m \u001b[0m\u001b[1m2023-…\u001b[0m\u001b[1m \u001b[0m \u001b[1m \u001b[0m\u001b[1m34 \u001b[0m\u001b[1m \u001b[0m \u001b[1;38;5;71m \u001b[0m\u001b[1;38;5;71m4   \u001b[0m\u001b[1;38;5;71m \u001b[0m \u001b[1m \u001b[0m\u001b[1m001-…\u001b[0m\u001b[1m \u001b[0m \u001b[1m \u001b[0m\u001b[1m     \u001b[0m\u001b[1m \u001b[0m \u001b[1m \u001b[0m\u001b[1m24322\u001b[0m\u001b[1m \u001b[0m \u001b[1m \u001b[0m\u001b[1m0     \u001b[0m\u001b[1m \u001b[0m \u001b[1m \u001b[0m\u001b[1m0    \u001b[0m\u001b[1m \u001b[0m \u001b[1m \u001b[0m\u001b[1mxslF3…\u001b[0m\u001b[1m \u001b[0m \u001b[1m \u001b[0m\u001b[1mFORM \u001b[0m\u001b[1m \u001b[0m  │\n",
              "│  \u001b[1m   \u001b[0m \u001b[1m        \u001b[0m \u001b[1;38;5;39m        \u001b[0m \u001b[1m       \u001b[0m \u001b[1m        \u001b[0m \u001b[1m     \u001b[0m \u001b[1;38;5;71m      \u001b[0m \u001b[1m       \u001b[0m \u001b[1m       \u001b[0m \u001b[1m       \u001b[0m \u001b[1m        \u001b[0m \u001b[1m       \u001b[0m \u001b[1m        \u001b[0m \u001b[1m \u001b[0m\u001b[1m4    \u001b[0m\u001b[1m \u001b[0m  │\n",
              "│  \u001b[1m   \u001b[0m \u001b[1m        \u001b[0m \u001b[1;38;5;39m        \u001b[0m \u001b[1m       \u001b[0m \u001b[1m        \u001b[0m \u001b[1m     \u001b[0m \u001b[1;38;5;71m      \u001b[0m \u001b[1m       \u001b[0m \u001b[1m       \u001b[0m \u001b[1m       \u001b[0m \u001b[1m        \u001b[0m \u001b[1m       \u001b[0m \u001b[1m        \u001b[0m \u001b[1m \u001b[0m\u001b[1mSUBM…\u001b[0m\u001b[1m \u001b[0m  │\n",
              "│                                                                                                                 │\n",
              "│ Showing 5 of 5 filings                                                                                          │\n",
              "╰─────────────────────────────────────────────────────────────────────────────────────────────────────────────────╯"
            ]
          },
          "metadata": {},
          "execution_count": 28
        }
      ]
    },
    {
      "cell_type": "markdown",
      "source": [
        "## Company Facts"
      ],
      "metadata": {
        "id": "47DFPPNHWmeU"
      }
    },
    {
      "cell_type": "code",
      "source": [
        "facts = googl.get_facts()\n",
        "facts"
      ],
      "metadata": {
        "id": "YGGQjMDJSZyx"
      },
      "execution_count": null,
      "outputs": []
    },
    {
      "cell_type": "markdown",
      "source": [
        "## Balance Sheet"
      ],
      "metadata": {
        "id": "FBRYsb5IXYXq"
      }
    },
    {
      "cell_type": "code",
      "source": [
        "b_sheet = googl.financials.balance_sheet\n",
        "b_sheet"
      ],
      "metadata": {
        "colab": {
          "base_uri": "https://localhost:8080/",
          "height": 425
        },
        "id": "Z9hjsWjYWqQh",
        "outputId": "39485a76-0a60-45a9-9263-39c6c2d27805"
      },
      "execution_count": 38,
      "outputs": [
        {
          "output_type": "display_data",
          "data": {
            "text/plain": [],
            "text/html": [
              "<pre style=\"white-space:pre;overflow-x:auto;line-height:normal;font-family:Menlo,'DejaVu Sans Mono',consolas,'Courier New',monospace\"></pre>\n"
            ]
          },
          "metadata": {}
        },
        {
          "output_type": "execute_result",
          "data": {
            "text/plain": [
              "╭───────────────────────────────────────────────── Balance Sheet ─────────────────────────────────────────────────╮\n",
              "│ \u001b[1;38;5;39m                       Assets                       \u001b[0m                                                            │\n",
              "│ ╭───────────────────────────┬──────────────────────╮                                                            │\n",
              "│ │\u001b[1m \u001b[0m\u001b[1m                         \u001b[0m\u001b[1m \u001b[0m│\u001b[1m \u001b[0m\u001b[1m                    \u001b[0m\u001b[1m \u001b[0m│                                                            │\n",
              "│ ├───────────────────────────┼──────────────────────┤                                                            │\n",
              "│ │ Cash and Cash Equivalents │      $21,879,000,000 │                                                            │\n",
              "│ │ Short Term Investments    │      $91,883,000,000 │                                                            │\n",
              "│ │ Accounts Receivable       │      $40,258,000,000 │                                                            │\n",
              "│ │ Inventories               │       $2,670,000,000 │                                                            │\n",
              "│ │ Other Current Assets      │       $8,105,000,000 │                                                            │\n",
              "│ │ Current Assets            │     $164,795,000,000 │                                                            │\n",
              "│ │ Goodwill                  │      $28,960,000,000 │                                                            │\n",
              "│ │ Total Assets              │     $365,264,000,000 │                                                            │\n",
              "│ ╰───────────────────────────┴──────────────────────╯                                                            │\n",
              "│ \u001b[1;38;5;39m      Liabilities and Shareholders Equity      \u001b[0m                                                                 │\n",
              "│ ╭──────────────────────┬──────────────────────╮                                                                 │\n",
              "│ │\u001b[1m \u001b[0m\u001b[1m                    \u001b[0m\u001b[1m \u001b[0m│\u001b[1m \u001b[0m\u001b[1m                    \u001b[0m\u001b[1m \u001b[0m│                                                                 │\n",
              "│ ├──────────────────────┼──────────────────────┤                                                                 │\n",
              "│ │ Current Liabilities  │      $69,300,000,000 │                                                                 │\n",
              "│ │ Total Liabilities    │     $109,120,000,000 │                                                                 │\n",
              "│ │ Stockholders Equity  │     $256,144,000,000 │                                                                 │\n",
              "│ │ Liabilities & Equity │     $365,264,000,000 │                                                                 │\n",
              "│ ╰──────────────────────┴──────────────────────╯                                                                 │\n",
              "╰─────────────────────────────────────────────────────────────────────────────────────────────────────────────────╯"
            ]
          },
          "metadata": {},
          "execution_count": 38
        }
      ]
    },
    {
      "cell_type": "markdown",
      "source": [
        "## Income Statement"
      ],
      "metadata": {
        "id": "iKH39lvlYVmH"
      }
    },
    {
      "cell_type": "code",
      "source": [
        "googl.financials.income_statement"
      ],
      "metadata": {
        "colab": {
          "base_uri": "https://localhost:8080/",
          "height": 170
        },
        "id": "TMYTcL7lX2ji",
        "outputId": "e25e8a1c-f219-46e0-9781-08e2e145ea41"
      },
      "execution_count": 39,
      "outputs": [
        {
          "output_type": "display_data",
          "data": {
            "text/plain": [],
            "text/html": [
              "<pre style=\"white-space:pre;overflow-x:auto;line-height:normal;font-family:Menlo,'DejaVu Sans Mono',consolas,'Courier New',monospace\"></pre>\n"
            ]
          },
          "metadata": {}
        },
        {
          "output_type": "execute_result",
          "data": {
            "text/plain": [
              "╭─────────────────────────────────────────────── Income Statement ────────────────────────────────────────────────╮\n",
              "│ ╭──────────────────────────┬──────────────────────╮                                                             │\n",
              "│ │\u001b[1m \u001b[0m\u001b[1m                        \u001b[0m\u001b[1m \u001b[0m│\u001b[1m \u001b[0m\u001b[1m                    \u001b[0m\u001b[1m \u001b[0m│                                                             │\n",
              "│ ├──────────────────────────┼──────────────────────┤                                                             │\n",
              "│ │ Total Revenue            │     $282,836,000,000 │                                                             │\n",
              "│ │ Operating Income or Loss │      $74,842,000,000 │                                                             │\n",
              "│ │ Net Income               │      $59,972,000,000 │                                                             │\n",
              "│ ╰──────────────────────────┴──────────────────────╯                                                             │\n",
              "╰─────────────────────────────────────────────────────────────────────────────────────────────────────────────────╯"
            ]
          },
          "metadata": {},
          "execution_count": 39
        }
      ]
    },
    {
      "cell_type": "markdown",
      "source": [
        "## Cash Flow"
      ],
      "metadata": {
        "id": "U53MOIiGYcaJ"
      }
    },
    {
      "cell_type": "code",
      "source": [
        "googl.financials.cash_flow_statement"
      ],
      "metadata": {
        "colab": {
          "base_uri": "https://localhost:8080/",
          "height": 255
        },
        "id": "qpZQ21B5YXEf",
        "outputId": "b046cbc1-f1e5-4fee-e9a5-2e76f5064327"
      },
      "execution_count": 42,
      "outputs": [
        {
          "output_type": "display_data",
          "data": {
            "text/plain": [],
            "text/html": [
              "<pre style=\"white-space:pre;overflow-x:auto;line-height:normal;font-family:Menlo,'DejaVu Sans Mono',consolas,'Courier New',monospace\"></pre>\n"
            ]
          },
          "metadata": {}
        },
        {
          "output_type": "execute_result",
          "data": {
            "text/plain": [
              "╭────────────────────────────────────────────── Cash Flow Statement ──────────────────────────────────────────────╮\n",
              "│ ╭───────────────────────────────────────────┬──────────────────────╮                                            │\n",
              "│ │\u001b[1m \u001b[0m\u001b[1m                                         \u001b[0m\u001b[1m \u001b[0m│\u001b[1m \u001b[0m\u001b[1m                    \u001b[0m\u001b[1m \u001b[0m│                                            │\n",
              "│ ├───────────────────────────────────────────┼──────────────────────┤                                            │\n",
              "│ │ Net Income                                │      $59,972,000,000 │                                            │\n",
              "│ │ Deferred Income Tax Expense (Benefit)     │      $-8,198,000,000 │                                            │\n",
              "│ │ Other Noncash Income (Expense)            │      $-1,030,000,000 │                                            │\n",
              "│ │ Net Cash from Operating Activities        │      $91,495,000,000 │                                            │\n",
              "│ │ Investents in Property, Plant & Equipment │      $31,485,000,000 │                                            │\n",
              "│ │ Other Investing Activities                │      $-1,589,000,000 │                                            │\n",
              "│ │ Net Cash used in Investing Activities     │     $-20,298,000,000 │                                            │\n",
              "│ │ Net Cash used in Financing Activities     │     $-69,757,000,000 │                                            │\n",
              "│ ╰───────────────────────────────────────────┴──────────────────────╯                                            │\n",
              "╰─────────────────────────────────────────────────────────────────────────────────────────────────────────────────╯"
            ]
          },
          "metadata": {},
          "execution_count": 42
        }
      ]
    },
    {
      "cell_type": "code",
      "source": [],
      "metadata": {
        "id": "eKboUoqUY1T4"
      },
      "execution_count": null,
      "outputs": []
    }
  ]
}